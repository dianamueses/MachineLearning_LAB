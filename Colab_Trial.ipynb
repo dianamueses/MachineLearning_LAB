{
  "nbformat": 4,
  "nbformat_minor": 0,
  "metadata": {
    "colab": {
      "provenance": [],
      "toc_visible": true
    },
    "kernelspec": {
      "name": "python3",
      "display_name": "Python 3"
    },
    "language_info": {
      "name": "python"
    }
  },
  "cells": [
    {
      "cell_type": "markdown",
      "source": [
        "# **Asignment 1**"
      ],
      "metadata": {
        "id": "6uITM2zPuJTQ"
      }
    },
    {
      "cell_type": "markdown",
      "source": [
        "**1. Import packages**"
      ],
      "metadata": {
        "id": "mSCfkYQ_trie"
      }
    },
    {
      "cell_type": "code",
      "execution_count": 1,
      "metadata": {
        "id": "bidvLytRgXhO"
      },
      "outputs": [],
      "source": [
        "import pandas as pd\n",
        "import matplotlib.pyplot as plt\n",
        "from matplotlib import colors as mcolors\n",
        "from google.colab import drive"
      ]
    },
    {
      "cell_type": "markdown",
      "source": [
        "**2. Connect notebook to Google Drive**"
      ],
      "metadata": {
        "id": "s6ZpjdNct1mK"
      }
    },
    {
      "cell_type": "code",
      "source": [
        "drive.mount('/content/gdrive/', force_remount = True)"
      ],
      "metadata": {
        "colab": {
          "base_uri": "https://localhost:8080/"
        },
        "id": "Ey9rmQfcgxjW",
        "outputId": "38fe1848-b221-471c-b2fa-478e64b7b0ae"
      },
      "execution_count": 2,
      "outputs": [
        {
          "output_type": "stream",
          "name": "stdout",
          "text": [
            "Mounted at /content/gdrive/\n"
          ]
        }
      ]
    },
    {
      "cell_type": "markdown",
      "source": [
        "**3. Import data**"
      ],
      "metadata": {
        "id": "KBtVikAdt06I"
      }
    },
    {
      "cell_type": "code",
      "source": [
        "df = pd.read_excel('/content/gdrive/MyDrive/ColabTrial/data.xlsx')\n",
        "df = df[df['year'] > 1958] # Selecting relevant years\n",
        "df.head()"
      ],
      "metadata": {
        "colab": {
          "base_uri": "https://localhost:8080/",
          "height": 204
        },
        "id": "32V09LyIh62G",
        "outputId": "cd2e72e4-f5be-453c-a4a6-1e1a83511294"
      },
      "execution_count": 3,
      "outputs": [
        {
          "output_type": "execute_result",
          "data": {
            "text/plain": [
              "    year quarter  gdp_deflator  m2_velocity  m2_stock  real_gdp\n",
              "48  1959      Q1        16.336        1.773     287.8  3123.978\n",
              "49  1959      Q2        16.361        1.789     292.1  3194.429\n",
              "50  1959      Q3        16.424        1.773     296.1  3196.683\n",
              "51  1959      Q4        16.489        1.779     297.1  3205.790\n",
              "52  1960      Q1        16.555        1.817     298.6  3277.847"
            ],
            "text/html": [
              "\n",
              "  <div id=\"df-09ade263-58b6-4cbe-ba4e-8b09efa62015\">\n",
              "    <div class=\"colab-df-container\">\n",
              "      <div>\n",
              "<style scoped>\n",
              "    .dataframe tbody tr th:only-of-type {\n",
              "        vertical-align: middle;\n",
              "    }\n",
              "\n",
              "    .dataframe tbody tr th {\n",
              "        vertical-align: top;\n",
              "    }\n",
              "\n",
              "    .dataframe thead th {\n",
              "        text-align: right;\n",
              "    }\n",
              "</style>\n",
              "<table border=\"1\" class=\"dataframe\">\n",
              "  <thead>\n",
              "    <tr style=\"text-align: right;\">\n",
              "      <th></th>\n",
              "      <th>year</th>\n",
              "      <th>quarter</th>\n",
              "      <th>gdp_deflator</th>\n",
              "      <th>m2_velocity</th>\n",
              "      <th>m2_stock</th>\n",
              "      <th>real_gdp</th>\n",
              "    </tr>\n",
              "  </thead>\n",
              "  <tbody>\n",
              "    <tr>\n",
              "      <th>48</th>\n",
              "      <td>1959</td>\n",
              "      <td>Q1</td>\n",
              "      <td>16.336</td>\n",
              "      <td>1.773</td>\n",
              "      <td>287.8</td>\n",
              "      <td>3123.978</td>\n",
              "    </tr>\n",
              "    <tr>\n",
              "      <th>49</th>\n",
              "      <td>1959</td>\n",
              "      <td>Q2</td>\n",
              "      <td>16.361</td>\n",
              "      <td>1.789</td>\n",
              "      <td>292.1</td>\n",
              "      <td>3194.429</td>\n",
              "    </tr>\n",
              "    <tr>\n",
              "      <th>50</th>\n",
              "      <td>1959</td>\n",
              "      <td>Q3</td>\n",
              "      <td>16.424</td>\n",
              "      <td>1.773</td>\n",
              "      <td>296.1</td>\n",
              "      <td>3196.683</td>\n",
              "    </tr>\n",
              "    <tr>\n",
              "      <th>51</th>\n",
              "      <td>1959</td>\n",
              "      <td>Q4</td>\n",
              "      <td>16.489</td>\n",
              "      <td>1.779</td>\n",
              "      <td>297.1</td>\n",
              "      <td>3205.790</td>\n",
              "    </tr>\n",
              "    <tr>\n",
              "      <th>52</th>\n",
              "      <td>1960</td>\n",
              "      <td>Q1</td>\n",
              "      <td>16.555</td>\n",
              "      <td>1.817</td>\n",
              "      <td>298.6</td>\n",
              "      <td>3277.847</td>\n",
              "    </tr>\n",
              "  </tbody>\n",
              "</table>\n",
              "</div>\n",
              "      <button class=\"colab-df-convert\" onclick=\"convertToInteractive('df-09ade263-58b6-4cbe-ba4e-8b09efa62015')\"\n",
              "              title=\"Convert this dataframe to an interactive table.\"\n",
              "              style=\"display:none;\">\n",
              "        \n",
              "  <svg xmlns=\"http://www.w3.org/2000/svg\" height=\"24px\"viewBox=\"0 0 24 24\"\n",
              "       width=\"24px\">\n",
              "    <path d=\"M0 0h24v24H0V0z\" fill=\"none\"/>\n",
              "    <path d=\"M18.56 5.44l.94 2.06.94-2.06 2.06-.94-2.06-.94-.94-2.06-.94 2.06-2.06.94zm-11 1L8.5 8.5l.94-2.06 2.06-.94-2.06-.94L8.5 2.5l-.94 2.06-2.06.94zm10 10l.94 2.06.94-2.06 2.06-.94-2.06-.94-.94-2.06-.94 2.06-2.06.94z\"/><path d=\"M17.41 7.96l-1.37-1.37c-.4-.4-.92-.59-1.43-.59-.52 0-1.04.2-1.43.59L10.3 9.45l-7.72 7.72c-.78.78-.78 2.05 0 2.83L4 21.41c.39.39.9.59 1.41.59.51 0 1.02-.2 1.41-.59l7.78-7.78 2.81-2.81c.8-.78.8-2.07 0-2.86zM5.41 20L4 18.59l7.72-7.72 1.47 1.35L5.41 20z\"/>\n",
              "  </svg>\n",
              "      </button>\n",
              "      \n",
              "  <style>\n",
              "    .colab-df-container {\n",
              "      display:flex;\n",
              "      flex-wrap:wrap;\n",
              "      gap: 12px;\n",
              "    }\n",
              "\n",
              "    .colab-df-convert {\n",
              "      background-color: #E8F0FE;\n",
              "      border: none;\n",
              "      border-radius: 50%;\n",
              "      cursor: pointer;\n",
              "      display: none;\n",
              "      fill: #1967D2;\n",
              "      height: 32px;\n",
              "      padding: 0 0 0 0;\n",
              "      width: 32px;\n",
              "    }\n",
              "\n",
              "    .colab-df-convert:hover {\n",
              "      background-color: #E2EBFA;\n",
              "      box-shadow: 0px 1px 2px rgba(60, 64, 67, 0.3), 0px 1px 3px 1px rgba(60, 64, 67, 0.15);\n",
              "      fill: #174EA6;\n",
              "    }\n",
              "\n",
              "    [theme=dark] .colab-df-convert {\n",
              "      background-color: #3B4455;\n",
              "      fill: #D2E3FC;\n",
              "    }\n",
              "\n",
              "    [theme=dark] .colab-df-convert:hover {\n",
              "      background-color: #434B5C;\n",
              "      box-shadow: 0px 1px 3px 1px rgba(0, 0, 0, 0.15);\n",
              "      filter: drop-shadow(0px 1px 2px rgba(0, 0, 0, 0.3));\n",
              "      fill: #FFFFFF;\n",
              "    }\n",
              "  </style>\n",
              "\n",
              "      <script>\n",
              "        const buttonEl =\n",
              "          document.querySelector('#df-09ade263-58b6-4cbe-ba4e-8b09efa62015 button.colab-df-convert');\n",
              "        buttonEl.style.display =\n",
              "          google.colab.kernel.accessAllowed ? 'block' : 'none';\n",
              "\n",
              "        async function convertToInteractive(key) {\n",
              "          const element = document.querySelector('#df-09ade263-58b6-4cbe-ba4e-8b09efa62015');\n",
              "          const dataTable =\n",
              "            await google.colab.kernel.invokeFunction('convertToInteractive',\n",
              "                                                     [key], {});\n",
              "          if (!dataTable) return;\n",
              "\n",
              "          const docLinkHtml = 'Like what you see? Visit the ' +\n",
              "            '<a target=\"_blank\" href=https://colab.research.google.com/notebooks/data_table.ipynb>data table notebook</a>'\n",
              "            + ' to learn more about interactive tables.';\n",
              "          element.innerHTML = '';\n",
              "          dataTable['output_type'] = 'display_data';\n",
              "          await google.colab.output.renderOutput(dataTable, element);\n",
              "          const docLink = document.createElement('div');\n",
              "          docLink.innerHTML = docLinkHtml;\n",
              "          element.appendChild(docLink);\n",
              "        }\n",
              "      </script>\n",
              "    </div>\n",
              "  </div>\n",
              "  "
            ]
          },
          "metadata": {},
          "execution_count": 3
        }
      ]
    },
    {
      "cell_type": "markdown",
      "source": [
        "**4. Calculating inflation**"
      ],
      "metadata": {
        "id": "SYRerw6Zu4hY"
      }
    },
    {
      "cell_type": "code",
      "source": [
        "df['gdp_def_pct_change'] = df.gdp_deflator.pct_change(4) # Yoy Inflation\n",
        "df"
      ],
      "metadata": {
        "colab": {
          "base_uri": "https://localhost:8080/",
          "height": 419
        },
        "id": "PxcdwtvliWSv",
        "outputId": "f10c5aea-9d2f-489b-e56c-78bf73313e99"
      },
      "execution_count": 4,
      "outputs": [
        {
          "output_type": "execute_result",
          "data": {
            "text/plain": [
              "     year quarter  gdp_deflator  m2_velocity  m2_stock   real_gdp  \\\n",
              "48   1959      Q1        16.336        1.773     287.8   3123.978   \n",
              "49   1959      Q2        16.361        1.789     292.1   3194.429   \n",
              "50   1959      Q3        16.424        1.773     296.1   3196.683   \n",
              "51   1959      Q4        16.489        1.779     297.1   3205.790   \n",
              "52   1960      Q1        16.555        1.817     298.6   3277.847   \n",
              "..    ...     ...           ...          ...       ...        ...   \n",
              "297  2021      Q2       117.922        1.134   20329.8  19544.248   \n",
              "298  2021      Q3       119.712        1.131   20822.2  19672.594   \n",
              "299  2021      Q4       121.708        1.142   21327.8  20006.181   \n",
              "300  2022      Q1       124.174        1.140   21699.4  19924.088   \n",
              "301  2022      Q2       126.907        1.165   21669.1  19895.271   \n",
              "\n",
              "     gdp_def_pct_change  \n",
              "48                  NaN  \n",
              "49                  NaN  \n",
              "50                  NaN  \n",
              "51                  NaN  \n",
              "52             0.013406  \n",
              "..                  ...  \n",
              "297            0.043622  \n",
              "298            0.050372  \n",
              "299            0.061173  \n",
              "300            0.069359  \n",
              "301            0.076194  \n",
              "\n",
              "[254 rows x 7 columns]"
            ],
            "text/html": [
              "\n",
              "  <div id=\"df-59b91314-d06f-4c94-959a-6fa2ea7e1ff6\">\n",
              "    <div class=\"colab-df-container\">\n",
              "      <div>\n",
              "<style scoped>\n",
              "    .dataframe tbody tr th:only-of-type {\n",
              "        vertical-align: middle;\n",
              "    }\n",
              "\n",
              "    .dataframe tbody tr th {\n",
              "        vertical-align: top;\n",
              "    }\n",
              "\n",
              "    .dataframe thead th {\n",
              "        text-align: right;\n",
              "    }\n",
              "</style>\n",
              "<table border=\"1\" class=\"dataframe\">\n",
              "  <thead>\n",
              "    <tr style=\"text-align: right;\">\n",
              "      <th></th>\n",
              "      <th>year</th>\n",
              "      <th>quarter</th>\n",
              "      <th>gdp_deflator</th>\n",
              "      <th>m2_velocity</th>\n",
              "      <th>m2_stock</th>\n",
              "      <th>real_gdp</th>\n",
              "      <th>gdp_def_pct_change</th>\n",
              "    </tr>\n",
              "  </thead>\n",
              "  <tbody>\n",
              "    <tr>\n",
              "      <th>48</th>\n",
              "      <td>1959</td>\n",
              "      <td>Q1</td>\n",
              "      <td>16.336</td>\n",
              "      <td>1.773</td>\n",
              "      <td>287.8</td>\n",
              "      <td>3123.978</td>\n",
              "      <td>NaN</td>\n",
              "    </tr>\n",
              "    <tr>\n",
              "      <th>49</th>\n",
              "      <td>1959</td>\n",
              "      <td>Q2</td>\n",
              "      <td>16.361</td>\n",
              "      <td>1.789</td>\n",
              "      <td>292.1</td>\n",
              "      <td>3194.429</td>\n",
              "      <td>NaN</td>\n",
              "    </tr>\n",
              "    <tr>\n",
              "      <th>50</th>\n",
              "      <td>1959</td>\n",
              "      <td>Q3</td>\n",
              "      <td>16.424</td>\n",
              "      <td>1.773</td>\n",
              "      <td>296.1</td>\n",
              "      <td>3196.683</td>\n",
              "      <td>NaN</td>\n",
              "    </tr>\n",
              "    <tr>\n",
              "      <th>51</th>\n",
              "      <td>1959</td>\n",
              "      <td>Q4</td>\n",
              "      <td>16.489</td>\n",
              "      <td>1.779</td>\n",
              "      <td>297.1</td>\n",
              "      <td>3205.790</td>\n",
              "      <td>NaN</td>\n",
              "    </tr>\n",
              "    <tr>\n",
              "      <th>52</th>\n",
              "      <td>1960</td>\n",
              "      <td>Q1</td>\n",
              "      <td>16.555</td>\n",
              "      <td>1.817</td>\n",
              "      <td>298.6</td>\n",
              "      <td>3277.847</td>\n",
              "      <td>0.013406</td>\n",
              "    </tr>\n",
              "    <tr>\n",
              "      <th>...</th>\n",
              "      <td>...</td>\n",
              "      <td>...</td>\n",
              "      <td>...</td>\n",
              "      <td>...</td>\n",
              "      <td>...</td>\n",
              "      <td>...</td>\n",
              "      <td>...</td>\n",
              "    </tr>\n",
              "    <tr>\n",
              "      <th>297</th>\n",
              "      <td>2021</td>\n",
              "      <td>Q2</td>\n",
              "      <td>117.922</td>\n",
              "      <td>1.134</td>\n",
              "      <td>20329.8</td>\n",
              "      <td>19544.248</td>\n",
              "      <td>0.043622</td>\n",
              "    </tr>\n",
              "    <tr>\n",
              "      <th>298</th>\n",
              "      <td>2021</td>\n",
              "      <td>Q3</td>\n",
              "      <td>119.712</td>\n",
              "      <td>1.131</td>\n",
              "      <td>20822.2</td>\n",
              "      <td>19672.594</td>\n",
              "      <td>0.050372</td>\n",
              "    </tr>\n",
              "    <tr>\n",
              "      <th>299</th>\n",
              "      <td>2021</td>\n",
              "      <td>Q4</td>\n",
              "      <td>121.708</td>\n",
              "      <td>1.142</td>\n",
              "      <td>21327.8</td>\n",
              "      <td>20006.181</td>\n",
              "      <td>0.061173</td>\n",
              "    </tr>\n",
              "    <tr>\n",
              "      <th>300</th>\n",
              "      <td>2022</td>\n",
              "      <td>Q1</td>\n",
              "      <td>124.174</td>\n",
              "      <td>1.140</td>\n",
              "      <td>21699.4</td>\n",
              "      <td>19924.088</td>\n",
              "      <td>0.069359</td>\n",
              "    </tr>\n",
              "    <tr>\n",
              "      <th>301</th>\n",
              "      <td>2022</td>\n",
              "      <td>Q2</td>\n",
              "      <td>126.907</td>\n",
              "      <td>1.165</td>\n",
              "      <td>21669.1</td>\n",
              "      <td>19895.271</td>\n",
              "      <td>0.076194</td>\n",
              "    </tr>\n",
              "  </tbody>\n",
              "</table>\n",
              "<p>254 rows × 7 columns</p>\n",
              "</div>\n",
              "      <button class=\"colab-df-convert\" onclick=\"convertToInteractive('df-59b91314-d06f-4c94-959a-6fa2ea7e1ff6')\"\n",
              "              title=\"Convert this dataframe to an interactive table.\"\n",
              "              style=\"display:none;\">\n",
              "        \n",
              "  <svg xmlns=\"http://www.w3.org/2000/svg\" height=\"24px\"viewBox=\"0 0 24 24\"\n",
              "       width=\"24px\">\n",
              "    <path d=\"M0 0h24v24H0V0z\" fill=\"none\"/>\n",
              "    <path d=\"M18.56 5.44l.94 2.06.94-2.06 2.06-.94-2.06-.94-.94-2.06-.94 2.06-2.06.94zm-11 1L8.5 8.5l.94-2.06 2.06-.94-2.06-.94L8.5 2.5l-.94 2.06-2.06.94zm10 10l.94 2.06.94-2.06 2.06-.94-2.06-.94-.94-2.06-.94 2.06-2.06.94z\"/><path d=\"M17.41 7.96l-1.37-1.37c-.4-.4-.92-.59-1.43-.59-.52 0-1.04.2-1.43.59L10.3 9.45l-7.72 7.72c-.78.78-.78 2.05 0 2.83L4 21.41c.39.39.9.59 1.41.59.51 0 1.02-.2 1.41-.59l7.78-7.78 2.81-2.81c.8-.78.8-2.07 0-2.86zM5.41 20L4 18.59l7.72-7.72 1.47 1.35L5.41 20z\"/>\n",
              "  </svg>\n",
              "      </button>\n",
              "      \n",
              "  <style>\n",
              "    .colab-df-container {\n",
              "      display:flex;\n",
              "      flex-wrap:wrap;\n",
              "      gap: 12px;\n",
              "    }\n",
              "\n",
              "    .colab-df-convert {\n",
              "      background-color: #E8F0FE;\n",
              "      border: none;\n",
              "      border-radius: 50%;\n",
              "      cursor: pointer;\n",
              "      display: none;\n",
              "      fill: #1967D2;\n",
              "      height: 32px;\n",
              "      padding: 0 0 0 0;\n",
              "      width: 32px;\n",
              "    }\n",
              "\n",
              "    .colab-df-convert:hover {\n",
              "      background-color: #E2EBFA;\n",
              "      box-shadow: 0px 1px 2px rgba(60, 64, 67, 0.3), 0px 1px 3px 1px rgba(60, 64, 67, 0.15);\n",
              "      fill: #174EA6;\n",
              "    }\n",
              "\n",
              "    [theme=dark] .colab-df-convert {\n",
              "      background-color: #3B4455;\n",
              "      fill: #D2E3FC;\n",
              "    }\n",
              "\n",
              "    [theme=dark] .colab-df-convert:hover {\n",
              "      background-color: #434B5C;\n",
              "      box-shadow: 0px 1px 3px 1px rgba(0, 0, 0, 0.15);\n",
              "      filter: drop-shadow(0px 1px 2px rgba(0, 0, 0, 0.3));\n",
              "      fill: #FFFFFF;\n",
              "    }\n",
              "  </style>\n",
              "\n",
              "      <script>\n",
              "        const buttonEl =\n",
              "          document.querySelector('#df-59b91314-d06f-4c94-959a-6fa2ea7e1ff6 button.colab-df-convert');\n",
              "        buttonEl.style.display =\n",
              "          google.colab.kernel.accessAllowed ? 'block' : 'none';\n",
              "\n",
              "        async function convertToInteractive(key) {\n",
              "          const element = document.querySelector('#df-59b91314-d06f-4c94-959a-6fa2ea7e1ff6');\n",
              "          const dataTable =\n",
              "            await google.colab.kernel.invokeFunction('convertToInteractive',\n",
              "                                                     [key], {});\n",
              "          if (!dataTable) return;\n",
              "\n",
              "          const docLinkHtml = 'Like what you see? Visit the ' +\n",
              "            '<a target=\"_blank\" href=https://colab.research.google.com/notebooks/data_table.ipynb>data table notebook</a>'\n",
              "            + ' to learn more about interactive tables.';\n",
              "          element.innerHTML = '';\n",
              "          dataTable['output_type'] = 'display_data';\n",
              "          await google.colab.output.renderOutput(dataTable, element);\n",
              "          const docLink = document.createElement('div');\n",
              "          docLink.innerHTML = docLinkHtml;\n",
              "          element.appendChild(docLink);\n",
              "        }\n",
              "      </script>\n",
              "    </div>\n",
              "  </div>\n",
              "  "
            ]
          },
          "metadata": {},
          "execution_count": 4
        }
      ]
    },
    {
      "cell_type": "code",
      "source": [
        "# For graphing purposes, let's add a column merging year and quarter:\n",
        "df['year_quarter'] = df['year'].astype(str) + ' ' + df['quarter']"
      ],
      "metadata": {
        "id": "TQH0Hc6npq1D"
      },
      "execution_count": 5,
      "outputs": []
    },
    {
      "cell_type": "markdown",
      "source": [
        "**5. Graph**"
      ],
      "metadata": {
        "id": "4NmzrPNzvXzV"
      }
    },
    {
      "cell_type": "code",
      "source": [
        "# We already have all the data. Let's plot:\n",
        "\n",
        "fig = plt.figure(figsize=(16, 6))\n",
        "ax = plt.subplot()\n",
        "\n",
        "# Creating our x axes\n",
        "x = []\n",
        "for i in range(4, len(df.year_quarter), 20):\n",
        "    x.append(df.year_quarter.iloc[i])\n",
        "\n",
        "\n",
        "ax.plot(df.year_quarter, df.gdp_def_pct_change*100, color = 'navy')\n",
        "\n",
        "ax.set_xticks(ax.get_xticks()[4::20]) # Selecting x-ticks\n",
        "plt.title('Inflation (yoy, %), Jan. 1960 - Dec. 2021')\n",
        "plt.grid(axis = 'y', linewidth = 0.2)\n",
        "ax.set_ylabel('%')\n",
        "\n",
        "plt.show()"
      ],
      "metadata": {
        "colab": {
          "base_uri": "https://localhost:8080/",
          "height": 390
        },
        "id": "l81oa2Kgp72j",
        "outputId": "02b201f3-50b1-43b3-94cd-7a9dc58031e2"
      },
      "execution_count": 6,
      "outputs": [
        {
          "output_type": "display_data",
          "data": {
            "text/plain": [
              "<Figure size 1152x432 with 1 Axes>"
            ],
            "image/png": "[encoded data removed]"
          },
          "metadata": {
            "needs_background": "light"
          }
        }
      ]
    }
  ]
}